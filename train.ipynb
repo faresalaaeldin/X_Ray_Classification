{
 "cells": [
  {
   "cell_type": "code",
   "execution_count": 1,
   "id": "1ec83c6b",
   "metadata": {},
   "outputs": [
    {
     "name": "stdout",
     "output_type": "stream",
     "text": [
      "D:\\Projects\\github\\X_Ray_Classification\n"
     ]
    }
   ],
   "source": [
    "%cd D:\\Projects\\github\\X_Ray_Classification"
   ]
  },
  {
   "cell_type": "code",
   "execution_count": 2,
   "id": "f3ec49c9",
   "metadata": {},
   "outputs": [],
   "source": [
    "import pandas as pd\n",
    "from PIL import Image"
   ]
  },
  {
   "cell_type": "code",
   "execution_count": 3,
   "id": "0a149ccb",
   "metadata": {},
   "outputs": [
    {
     "data": {
      "application/vnd.microsoft.datawrangler.viewer.v0+json": {
       "columns": [
        {
         "name": "index",
         "rawType": "int64",
         "type": "integer"
        },
        {
         "name": "Image",
         "rawType": "object",
         "type": "string"
        },
        {
         "name": "Class",
         "rawType": "object",
         "type": "string"
        },
        {
         "name": "Split",
         "rawType": "object",
         "type": "string"
        },
        {
         "name": "resized",
         "rawType": "object",
         "type": "string"
        }
       ],
       "conversionMethod": "pd.DataFrame",
       "ref": "d562c832-6947-4429-8629-3bc83a72f31a",
       "rows": [
        [
         "0",
         "D:\\Projects\\Github\\X_Ray_Classification\\data\\chest_xray\\chest_xray\\train\\NORMAL\\IM-0115-0001.jpeg",
         "NORMAL",
         "train",
         "data/resized/train_NORMAL_IM-0115-0001.jpeg"
        ],
        [
         "1",
         "D:\\Projects\\Github\\X_Ray_Classification\\data\\chest_xray\\chest_xray\\train\\NORMAL\\IM-0117-0001.jpeg",
         "NORMAL",
         "train",
         "data/resized/train_NORMAL_IM-0117-0001.jpeg"
        ],
        [
         "2",
         "D:\\Projects\\Github\\X_Ray_Classification\\data\\chest_xray\\chest_xray\\train\\NORMAL\\IM-0119-0001.jpeg",
         "NORMAL",
         "train",
         "data/resized/train_NORMAL_IM-0119-0001.jpeg"
        ],
        [
         "3",
         "D:\\Projects\\Github\\X_Ray_Classification\\data\\chest_xray\\chest_xray\\train\\NORMAL\\IM-0122-0001.jpeg",
         "NORMAL",
         "train",
         "data/resized/train_NORMAL_IM-0122-0001.jpeg"
        ],
        [
         "4",
         "D:\\Projects\\Github\\X_Ray_Classification\\data\\chest_xray\\chest_xray\\train\\NORMAL\\IM-0125-0001.jpeg",
         "NORMAL",
         "train",
         "data/resized/train_NORMAL_IM-0125-0001.jpeg"
        ]
       ],
       "shape": {
        "columns": 4,
        "rows": 5
       }
      },
      "text/html": [
       "<div>\n",
       "<style scoped>\n",
       "    .dataframe tbody tr th:only-of-type {\n",
       "        vertical-align: middle;\n",
       "    }\n",
       "\n",
       "    .dataframe tbody tr th {\n",
       "        vertical-align: top;\n",
       "    }\n",
       "\n",
       "    .dataframe thead th {\n",
       "        text-align: right;\n",
       "    }\n",
       "</style>\n",
       "<table border=\"1\" class=\"dataframe\">\n",
       "  <thead>\n",
       "    <tr style=\"text-align: right;\">\n",
       "      <th></th>\n",
       "      <th>Image</th>\n",
       "      <th>Class</th>\n",
       "      <th>Split</th>\n",
       "      <th>resized</th>\n",
       "    </tr>\n",
       "  </thead>\n",
       "  <tbody>\n",
       "    <tr>\n",
       "      <th>0</th>\n",
       "      <td>D:\\Projects\\Github\\X_Ray_Classification\\data\\c...</td>\n",
       "      <td>NORMAL</td>\n",
       "      <td>train</td>\n",
       "      <td>data/resized/train_NORMAL_IM-0115-0001.jpeg</td>\n",
       "    </tr>\n",
       "    <tr>\n",
       "      <th>1</th>\n",
       "      <td>D:\\Projects\\Github\\X_Ray_Classification\\data\\c...</td>\n",
       "      <td>NORMAL</td>\n",
       "      <td>train</td>\n",
       "      <td>data/resized/train_NORMAL_IM-0117-0001.jpeg</td>\n",
       "    </tr>\n",
       "    <tr>\n",
       "      <th>2</th>\n",
       "      <td>D:\\Projects\\Github\\X_Ray_Classification\\data\\c...</td>\n",
       "      <td>NORMAL</td>\n",
       "      <td>train</td>\n",
       "      <td>data/resized/train_NORMAL_IM-0119-0001.jpeg</td>\n",
       "    </tr>\n",
       "    <tr>\n",
       "      <th>3</th>\n",
       "      <td>D:\\Projects\\Github\\X_Ray_Classification\\data\\c...</td>\n",
       "      <td>NORMAL</td>\n",
       "      <td>train</td>\n",
       "      <td>data/resized/train_NORMAL_IM-0122-0001.jpeg</td>\n",
       "    </tr>\n",
       "    <tr>\n",
       "      <th>4</th>\n",
       "      <td>D:\\Projects\\Github\\X_Ray_Classification\\data\\c...</td>\n",
       "      <td>NORMAL</td>\n",
       "      <td>train</td>\n",
       "      <td>data/resized/train_NORMAL_IM-0125-0001.jpeg</td>\n",
       "    </tr>\n",
       "  </tbody>\n",
       "</table>\n",
       "</div>"
      ],
      "text/plain": [
       "                                               Image   Class  Split  \\\n",
       "0  D:\\Projects\\Github\\X_Ray_Classification\\data\\c...  NORMAL  train   \n",
       "1  D:\\Projects\\Github\\X_Ray_Classification\\data\\c...  NORMAL  train   \n",
       "2  D:\\Projects\\Github\\X_Ray_Classification\\data\\c...  NORMAL  train   \n",
       "3  D:\\Projects\\Github\\X_Ray_Classification\\data\\c...  NORMAL  train   \n",
       "4  D:\\Projects\\Github\\X_Ray_Classification\\data\\c...  NORMAL  train   \n",
       "\n",
       "                                       resized  \n",
       "0  data/resized/train_NORMAL_IM-0115-0001.jpeg  \n",
       "1  data/resized/train_NORMAL_IM-0117-0001.jpeg  \n",
       "2  data/resized/train_NORMAL_IM-0119-0001.jpeg  \n",
       "3  data/resized/train_NORMAL_IM-0122-0001.jpeg  \n",
       "4  data/resized/train_NORMAL_IM-0125-0001.jpeg  "
      ]
     },
     "execution_count": 3,
     "metadata": {},
     "output_type": "execute_result"
    }
   ],
   "source": [
    "data_map = pd.read_csv(r\"D:\\Projects\\github\\X_Ray_Classification\\data\\chest_xray\\chest_xray\\data_map.csv\")\n",
    "data_map.head()"
   ]
  },
  {
   "cell_type": "code",
   "execution_count": 4,
   "id": "6a422f3f",
   "metadata": {},
   "outputs": [],
   "source": [
    "from sklearn.preprocessing import LabelEncoder"
   ]
  },
  {
   "cell_type": "code",
   "execution_count": 5,
   "id": "3d2d4a00",
   "metadata": {},
   "outputs": [],
   "source": [
    "lbl_encoder = LabelEncoder()\n",
    "data_map[\"clas_enc\"] = lbl_encoder.fit_transform(data_map[\"Class\"])"
   ]
  },
  {
   "cell_type": "code",
   "execution_count": 6,
   "id": "aa53ab83",
   "metadata": {},
   "outputs": [
    {
     "data": {
      "application/vnd.microsoft.datawrangler.viewer.v0+json": {
       "columns": [
        {
         "name": "index",
         "rawType": "int64",
         "type": "integer"
        },
        {
         "name": "Image",
         "rawType": "object",
         "type": "string"
        },
        {
         "name": "Class",
         "rawType": "object",
         "type": "string"
        },
        {
         "name": "Split",
         "rawType": "object",
         "type": "string"
        },
        {
         "name": "resized",
         "rawType": "object",
         "type": "string"
        },
        {
         "name": "clas_enc",
         "rawType": "int64",
         "type": "integer"
        }
       ],
       "conversionMethod": "pd.DataFrame",
       "ref": "5c2f7b6b-f12b-4c42-baa4-807034286739",
       "rows": [
        [
         "0",
         "D:\\Projects\\Github\\X_Ray_Classification\\data\\chest_xray\\chest_xray\\train\\NORMAL\\IM-0115-0001.jpeg",
         "NORMAL",
         "train",
         "data/resized/train_NORMAL_IM-0115-0001.jpeg",
         "0"
        ],
        [
         "1",
         "D:\\Projects\\Github\\X_Ray_Classification\\data\\chest_xray\\chest_xray\\train\\NORMAL\\IM-0117-0001.jpeg",
         "NORMAL",
         "train",
         "data/resized/train_NORMAL_IM-0117-0001.jpeg",
         "0"
        ],
        [
         "2",
         "D:\\Projects\\Github\\X_Ray_Classification\\data\\chest_xray\\chest_xray\\train\\NORMAL\\IM-0119-0001.jpeg",
         "NORMAL",
         "train",
         "data/resized/train_NORMAL_IM-0119-0001.jpeg",
         "0"
        ],
        [
         "3",
         "D:\\Projects\\Github\\X_Ray_Classification\\data\\chest_xray\\chest_xray\\train\\NORMAL\\IM-0122-0001.jpeg",
         "NORMAL",
         "train",
         "data/resized/train_NORMAL_IM-0122-0001.jpeg",
         "0"
        ],
        [
         "4",
         "D:\\Projects\\Github\\X_Ray_Classification\\data\\chest_xray\\chest_xray\\train\\NORMAL\\IM-0125-0001.jpeg",
         "NORMAL",
         "train",
         "data/resized/train_NORMAL_IM-0125-0001.jpeg",
         "0"
        ],
        [
         "5",
         "D:\\Projects\\Github\\X_Ray_Classification\\data\\chest_xray\\chest_xray\\train\\NORMAL\\IM-0127-0001.jpeg",
         "NORMAL",
         "train",
         "data/resized/train_NORMAL_IM-0127-0001.jpeg",
         "0"
        ],
        [
         "6",
         "D:\\Projects\\Github\\X_Ray_Classification\\data\\chest_xray\\chest_xray\\train\\NORMAL\\IM-0128-0001.jpeg",
         "NORMAL",
         "train",
         "data/resized/train_NORMAL_IM-0128-0001.jpeg",
         "0"
        ],
        [
         "7",
         "D:\\Projects\\Github\\X_Ray_Classification\\data\\chest_xray\\chest_xray\\train\\NORMAL\\IM-0129-0001.jpeg",
         "NORMAL",
         "train",
         "data/resized/train_NORMAL_IM-0129-0001.jpeg",
         "0"
        ],
        [
         "8",
         "D:\\Projects\\Github\\X_Ray_Classification\\data\\chest_xray\\chest_xray\\train\\NORMAL\\IM-0131-0001.jpeg",
         "NORMAL",
         "train",
         "data/resized/train_NORMAL_IM-0131-0001.jpeg",
         "0"
        ],
        [
         "9",
         "D:\\Projects\\Github\\X_Ray_Classification\\data\\chest_xray\\chest_xray\\train\\NORMAL\\IM-0133-0001.jpeg",
         "NORMAL",
         "train",
         "data/resized/train_NORMAL_IM-0133-0001.jpeg",
         "0"
        ],
        [
         "10",
         "D:\\Projects\\Github\\X_Ray_Classification\\data\\chest_xray\\chest_xray\\train\\NORMAL\\IM-0135-0001.jpeg",
         "NORMAL",
         "train",
         "data/resized/train_NORMAL_IM-0135-0001.jpeg",
         "0"
        ],
        [
         "11",
         "D:\\Projects\\Github\\X_Ray_Classification\\data\\chest_xray\\chest_xray\\train\\NORMAL\\IM-0137-0001.jpeg",
         "NORMAL",
         "train",
         "data/resized/train_NORMAL_IM-0137-0001.jpeg",
         "0"
        ],
        [
         "12",
         "D:\\Projects\\Github\\X_Ray_Classification\\data\\chest_xray\\chest_xray\\train\\NORMAL\\IM-0140-0001.jpeg",
         "NORMAL",
         "train",
         "data/resized/train_NORMAL_IM-0140-0001.jpeg",
         "0"
        ],
        [
         "13",
         "D:\\Projects\\Github\\X_Ray_Classification\\data\\chest_xray\\chest_xray\\train\\NORMAL\\IM-0141-0001.jpeg",
         "NORMAL",
         "train",
         "data/resized/train_NORMAL_IM-0141-0001.jpeg",
         "0"
        ],
        [
         "14",
         "D:\\Projects\\Github\\X_Ray_Classification\\data\\chest_xray\\chest_xray\\train\\NORMAL\\IM-0143-0001.jpeg",
         "NORMAL",
         "train",
         "data/resized/train_NORMAL_IM-0143-0001.jpeg",
         "0"
        ],
        [
         "15",
         "D:\\Projects\\Github\\X_Ray_Classification\\data\\chest_xray\\chest_xray\\train\\NORMAL\\IM-0145-0001.jpeg",
         "NORMAL",
         "train",
         "data/resized/train_NORMAL_IM-0145-0001.jpeg",
         "0"
        ],
        [
         "16",
         "D:\\Projects\\Github\\X_Ray_Classification\\data\\chest_xray\\chest_xray\\train\\NORMAL\\IM-0147-0001.jpeg",
         "NORMAL",
         "train",
         "data/resized/train_NORMAL_IM-0147-0001.jpeg",
         "0"
        ],
        [
         "17",
         "D:\\Projects\\Github\\X_Ray_Classification\\data\\chest_xray\\chest_xray\\train\\NORMAL\\IM-0149-0001.jpeg",
         "NORMAL",
         "train",
         "data/resized/train_NORMAL_IM-0149-0001.jpeg",
         "0"
        ],
        [
         "18",
         "D:\\Projects\\Github\\X_Ray_Classification\\data\\chest_xray\\chest_xray\\train\\NORMAL\\IM-0151-0001.jpeg",
         "NORMAL",
         "train",
         "data/resized/train_NORMAL_IM-0151-0001.jpeg",
         "0"
        ],
        [
         "19",
         "D:\\Projects\\Github\\X_Ray_Classification\\data\\chest_xray\\chest_xray\\train\\NORMAL\\IM-0152-0001.jpeg",
         "NORMAL",
         "train",
         "data/resized/train_NORMAL_IM-0152-0001.jpeg",
         "0"
        ],
        [
         "20",
         "D:\\Projects\\Github\\X_Ray_Classification\\data\\chest_xray\\chest_xray\\train\\NORMAL\\IM-0154-0001.jpeg",
         "NORMAL",
         "train",
         "data/resized/train_NORMAL_IM-0154-0001.jpeg",
         "0"
        ],
        [
         "21",
         "D:\\Projects\\Github\\X_Ray_Classification\\data\\chest_xray\\chest_xray\\train\\NORMAL\\IM-0156-0001.jpeg",
         "NORMAL",
         "train",
         "data/resized/train_NORMAL_IM-0156-0001.jpeg",
         "0"
        ],
        [
         "22",
         "D:\\Projects\\Github\\X_Ray_Classification\\data\\chest_xray\\chest_xray\\train\\NORMAL\\IM-0158-0001.jpeg",
         "NORMAL",
         "train",
         "data/resized/train_NORMAL_IM-0158-0001.jpeg",
         "0"
        ],
        [
         "23",
         "D:\\Projects\\Github\\X_Ray_Classification\\data\\chest_xray\\chest_xray\\train\\NORMAL\\IM-0160-0001.jpeg",
         "NORMAL",
         "train",
         "data/resized/train_NORMAL_IM-0160-0001.jpeg",
         "0"
        ],
        [
         "24",
         "D:\\Projects\\Github\\X_Ray_Classification\\data\\chest_xray\\chest_xray\\train\\NORMAL\\IM-0162-0001.jpeg",
         "NORMAL",
         "train",
         "data/resized/train_NORMAL_IM-0162-0001.jpeg",
         "0"
        ],
        [
         "25",
         "D:\\Projects\\Github\\X_Ray_Classification\\data\\chest_xray\\chest_xray\\train\\NORMAL\\IM-0164-0001.jpeg",
         "NORMAL",
         "train",
         "data/resized/train_NORMAL_IM-0164-0001.jpeg",
         "0"
        ],
        [
         "26",
         "D:\\Projects\\Github\\X_Ray_Classification\\data\\chest_xray\\chest_xray\\train\\NORMAL\\IM-0166-0001.jpeg",
         "NORMAL",
         "train",
         "data/resized/train_NORMAL_IM-0166-0001.jpeg",
         "0"
        ],
        [
         "27",
         "D:\\Projects\\Github\\X_Ray_Classification\\data\\chest_xray\\chest_xray\\train\\NORMAL\\IM-0168-0001.jpeg",
         "NORMAL",
         "train",
         "data/resized/train_NORMAL_IM-0168-0001.jpeg",
         "0"
        ],
        [
         "28",
         "D:\\Projects\\Github\\X_Ray_Classification\\data\\chest_xray\\chest_xray\\train\\NORMAL\\IM-0170-0001.jpeg",
         "NORMAL",
         "train",
         "data/resized/train_NORMAL_IM-0170-0001.jpeg",
         "0"
        ],
        [
         "29",
         "D:\\Projects\\Github\\X_Ray_Classification\\data\\chest_xray\\chest_xray\\train\\NORMAL\\IM-0172-0001.jpeg",
         "NORMAL",
         "train",
         "data/resized/train_NORMAL_IM-0172-0001.jpeg",
         "0"
        ],
        [
         "30",
         "D:\\Projects\\Github\\X_Ray_Classification\\data\\chest_xray\\chest_xray\\train\\NORMAL\\IM-0176-0001.jpeg",
         "NORMAL",
         "train",
         "data/resized/train_NORMAL_IM-0176-0001.jpeg",
         "0"
        ],
        [
         "31",
         "D:\\Projects\\Github\\X_Ray_Classification\\data\\chest_xray\\chest_xray\\train\\NORMAL\\IM-0177-0001.jpeg",
         "NORMAL",
         "train",
         "data/resized/train_NORMAL_IM-0177-0001.jpeg",
         "0"
        ],
        [
         "32",
         "D:\\Projects\\Github\\X_Ray_Classification\\data\\chest_xray\\chest_xray\\train\\NORMAL\\IM-0178-0001.jpeg",
         "NORMAL",
         "train",
         "data/resized/train_NORMAL_IM-0178-0001.jpeg",
         "0"
        ],
        [
         "33",
         "D:\\Projects\\Github\\X_Ray_Classification\\data\\chest_xray\\chest_xray\\train\\NORMAL\\IM-0180-0001.jpeg",
         "NORMAL",
         "train",
         "data/resized/train_NORMAL_IM-0180-0001.jpeg",
         "0"
        ],
        [
         "34",
         "D:\\Projects\\Github\\X_Ray_Classification\\data\\chest_xray\\chest_xray\\train\\NORMAL\\IM-0182-0001.jpeg",
         "NORMAL",
         "train",
         "data/resized/train_NORMAL_IM-0182-0001.jpeg",
         "0"
        ],
        [
         "35",
         "D:\\Projects\\Github\\X_Ray_Classification\\data\\chest_xray\\chest_xray\\train\\NORMAL\\IM-0183-0001.jpeg",
         "NORMAL",
         "train",
         "data/resized/train_NORMAL_IM-0183-0001.jpeg",
         "0"
        ],
        [
         "36",
         "D:\\Projects\\Github\\X_Ray_Classification\\data\\chest_xray\\chest_xray\\train\\NORMAL\\IM-0185-0001.jpeg",
         "NORMAL",
         "train",
         "data/resized/train_NORMAL_IM-0185-0001.jpeg",
         "0"
        ],
        [
         "37",
         "D:\\Projects\\Github\\X_Ray_Classification\\data\\chest_xray\\chest_xray\\train\\NORMAL\\IM-0187-0001.jpeg",
         "NORMAL",
         "train",
         "data/resized/train_NORMAL_IM-0187-0001.jpeg",
         "0"
        ],
        [
         "38",
         "D:\\Projects\\Github\\X_Ray_Classification\\data\\chest_xray\\chest_xray\\train\\NORMAL\\IM-0189-0001.jpeg",
         "NORMAL",
         "train",
         "data/resized/train_NORMAL_IM-0189-0001.jpeg",
         "0"
        ],
        [
         "39",
         "D:\\Projects\\Github\\X_Ray_Classification\\data\\chest_xray\\chest_xray\\train\\NORMAL\\IM-0191-0001.jpeg",
         "NORMAL",
         "train",
         "data/resized/train_NORMAL_IM-0191-0001.jpeg",
         "0"
        ],
        [
         "40",
         "D:\\Projects\\Github\\X_Ray_Classification\\data\\chest_xray\\chest_xray\\train\\NORMAL\\IM-0193-0001.jpeg",
         "NORMAL",
         "train",
         "data/resized/train_NORMAL_IM-0193-0001.jpeg",
         "0"
        ],
        [
         "41",
         "D:\\Projects\\Github\\X_Ray_Classification\\data\\chest_xray\\chest_xray\\train\\NORMAL\\IM-0195-0001.jpeg",
         "NORMAL",
         "train",
         "data/resized/train_NORMAL_IM-0195-0001.jpeg",
         "0"
        ],
        [
         "42",
         "D:\\Projects\\Github\\X_Ray_Classification\\data\\chest_xray\\chest_xray\\train\\NORMAL\\IM-0199-0001.jpeg",
         "NORMAL",
         "train",
         "data/resized/train_NORMAL_IM-0199-0001.jpeg",
         "0"
        ],
        [
         "43",
         "D:\\Projects\\Github\\X_Ray_Classification\\data\\chest_xray\\chest_xray\\train\\NORMAL\\IM-0201-0001.jpeg",
         "NORMAL",
         "train",
         "data/resized/train_NORMAL_IM-0201-0001.jpeg",
         "0"
        ],
        [
         "44",
         "D:\\Projects\\Github\\X_Ray_Classification\\data\\chest_xray\\chest_xray\\train\\NORMAL\\IM-0203-0001.jpeg",
         "NORMAL",
         "train",
         "data/resized/train_NORMAL_IM-0203-0001.jpeg",
         "0"
        ],
        [
         "45",
         "D:\\Projects\\Github\\X_Ray_Classification\\data\\chest_xray\\chest_xray\\train\\NORMAL\\IM-0205-0001.jpeg",
         "NORMAL",
         "train",
         "data/resized/train_NORMAL_IM-0205-0001.jpeg",
         "0"
        ],
        [
         "46",
         "D:\\Projects\\Github\\X_Ray_Classification\\data\\chest_xray\\chest_xray\\train\\NORMAL\\IM-0206-0001.jpeg",
         "NORMAL",
         "train",
         "data/resized/train_NORMAL_IM-0206-0001.jpeg",
         "0"
        ],
        [
         "47",
         "D:\\Projects\\Github\\X_Ray_Classification\\data\\chest_xray\\chest_xray\\train\\NORMAL\\IM-0207-0001.jpeg",
         "NORMAL",
         "train",
         "data/resized/train_NORMAL_IM-0207-0001.jpeg",
         "0"
        ],
        [
         "48",
         "D:\\Projects\\Github\\X_Ray_Classification\\data\\chest_xray\\chest_xray\\train\\NORMAL\\IM-0209-0001.jpeg",
         "NORMAL",
         "train",
         "data/resized/train_NORMAL_IM-0209-0001.jpeg",
         "0"
        ],
        [
         "49",
         "D:\\Projects\\Github\\X_Ray_Classification\\data\\chest_xray\\chest_xray\\train\\NORMAL\\IM-0210-0001.jpeg",
         "NORMAL",
         "train",
         "data/resized/train_NORMAL_IM-0210-0001.jpeg",
         "0"
        ]
       ],
       "shape": {
        "columns": 5,
        "rows": 5856
       }
      },
      "text/html": [
       "<div>\n",
       "<style scoped>\n",
       "    .dataframe tbody tr th:only-of-type {\n",
       "        vertical-align: middle;\n",
       "    }\n",
       "\n",
       "    .dataframe tbody tr th {\n",
       "        vertical-align: top;\n",
       "    }\n",
       "\n",
       "    .dataframe thead th {\n",
       "        text-align: right;\n",
       "    }\n",
       "</style>\n",
       "<table border=\"1\" class=\"dataframe\">\n",
       "  <thead>\n",
       "    <tr style=\"text-align: right;\">\n",
       "      <th></th>\n",
       "      <th>Image</th>\n",
       "      <th>Class</th>\n",
       "      <th>Split</th>\n",
       "      <th>resized</th>\n",
       "      <th>clas_enc</th>\n",
       "    </tr>\n",
       "  </thead>\n",
       "  <tbody>\n",
       "    <tr>\n",
       "      <th>0</th>\n",
       "      <td>D:\\Projects\\Github\\X_Ray_Classification\\data\\c...</td>\n",
       "      <td>NORMAL</td>\n",
       "      <td>train</td>\n",
       "      <td>data/resized/train_NORMAL_IM-0115-0001.jpeg</td>\n",
       "      <td>0</td>\n",
       "    </tr>\n",
       "    <tr>\n",
       "      <th>1</th>\n",
       "      <td>D:\\Projects\\Github\\X_Ray_Classification\\data\\c...</td>\n",
       "      <td>NORMAL</td>\n",
       "      <td>train</td>\n",
       "      <td>data/resized/train_NORMAL_IM-0117-0001.jpeg</td>\n",
       "      <td>0</td>\n",
       "    </tr>\n",
       "    <tr>\n",
       "      <th>2</th>\n",
       "      <td>D:\\Projects\\Github\\X_Ray_Classification\\data\\c...</td>\n",
       "      <td>NORMAL</td>\n",
       "      <td>train</td>\n",
       "      <td>data/resized/train_NORMAL_IM-0119-0001.jpeg</td>\n",
       "      <td>0</td>\n",
       "    </tr>\n",
       "    <tr>\n",
       "      <th>3</th>\n",
       "      <td>D:\\Projects\\Github\\X_Ray_Classification\\data\\c...</td>\n",
       "      <td>NORMAL</td>\n",
       "      <td>train</td>\n",
       "      <td>data/resized/train_NORMAL_IM-0122-0001.jpeg</td>\n",
       "      <td>0</td>\n",
       "    </tr>\n",
       "    <tr>\n",
       "      <th>4</th>\n",
       "      <td>D:\\Projects\\Github\\X_Ray_Classification\\data\\c...</td>\n",
       "      <td>NORMAL</td>\n",
       "      <td>train</td>\n",
       "      <td>data/resized/train_NORMAL_IM-0125-0001.jpeg</td>\n",
       "      <td>0</td>\n",
       "    </tr>\n",
       "    <tr>\n",
       "      <th>...</th>\n",
       "      <td>...</td>\n",
       "      <td>...</td>\n",
       "      <td>...</td>\n",
       "      <td>...</td>\n",
       "      <td>...</td>\n",
       "    </tr>\n",
       "    <tr>\n",
       "      <th>5851</th>\n",
       "      <td>D:\\Projects\\Github\\X_Ray_Classification\\data\\c...</td>\n",
       "      <td>PNEUMONIA</td>\n",
       "      <td>val</td>\n",
       "      <td>data/resized/val_PNEUMONIA_person1949_bacteria...</td>\n",
       "      <td>1</td>\n",
       "    </tr>\n",
       "    <tr>\n",
       "      <th>5852</th>\n",
       "      <td>D:\\Projects\\Github\\X_Ray_Classification\\data\\c...</td>\n",
       "      <td>PNEUMONIA</td>\n",
       "      <td>val</td>\n",
       "      <td>data/resized/val_PNEUMONIA_person1950_bacteria...</td>\n",
       "      <td>1</td>\n",
       "    </tr>\n",
       "    <tr>\n",
       "      <th>5853</th>\n",
       "      <td>D:\\Projects\\Github\\X_Ray_Classification\\data\\c...</td>\n",
       "      <td>PNEUMONIA</td>\n",
       "      <td>val</td>\n",
       "      <td>data/resized/val_PNEUMONIA_person1951_bacteria...</td>\n",
       "      <td>1</td>\n",
       "    </tr>\n",
       "    <tr>\n",
       "      <th>5854</th>\n",
       "      <td>D:\\Projects\\Github\\X_Ray_Classification\\data\\c...</td>\n",
       "      <td>PNEUMONIA</td>\n",
       "      <td>val</td>\n",
       "      <td>data/resized/val_PNEUMONIA_person1952_bacteria...</td>\n",
       "      <td>1</td>\n",
       "    </tr>\n",
       "    <tr>\n",
       "      <th>5855</th>\n",
       "      <td>D:\\Projects\\Github\\X_Ray_Classification\\data\\c...</td>\n",
       "      <td>PNEUMONIA</td>\n",
       "      <td>val</td>\n",
       "      <td>data/resized/val_PNEUMONIA_person1954_bacteria...</td>\n",
       "      <td>1</td>\n",
       "    </tr>\n",
       "  </tbody>\n",
       "</table>\n",
       "<p>5856 rows × 5 columns</p>\n",
       "</div>"
      ],
      "text/plain": [
       "                                                  Image      Class  Split  \\\n",
       "0     D:\\Projects\\Github\\X_Ray_Classification\\data\\c...     NORMAL  train   \n",
       "1     D:\\Projects\\Github\\X_Ray_Classification\\data\\c...     NORMAL  train   \n",
       "2     D:\\Projects\\Github\\X_Ray_Classification\\data\\c...     NORMAL  train   \n",
       "3     D:\\Projects\\Github\\X_Ray_Classification\\data\\c...     NORMAL  train   \n",
       "4     D:\\Projects\\Github\\X_Ray_Classification\\data\\c...     NORMAL  train   \n",
       "...                                                 ...        ...    ...   \n",
       "5851  D:\\Projects\\Github\\X_Ray_Classification\\data\\c...  PNEUMONIA    val   \n",
       "5852  D:\\Projects\\Github\\X_Ray_Classification\\data\\c...  PNEUMONIA    val   \n",
       "5853  D:\\Projects\\Github\\X_Ray_Classification\\data\\c...  PNEUMONIA    val   \n",
       "5854  D:\\Projects\\Github\\X_Ray_Classification\\data\\c...  PNEUMONIA    val   \n",
       "5855  D:\\Projects\\Github\\X_Ray_Classification\\data\\c...  PNEUMONIA    val   \n",
       "\n",
       "                                                resized  clas_enc  \n",
       "0           data/resized/train_NORMAL_IM-0115-0001.jpeg         0  \n",
       "1           data/resized/train_NORMAL_IM-0117-0001.jpeg         0  \n",
       "2           data/resized/train_NORMAL_IM-0119-0001.jpeg         0  \n",
       "3           data/resized/train_NORMAL_IM-0122-0001.jpeg         0  \n",
       "4           data/resized/train_NORMAL_IM-0125-0001.jpeg         0  \n",
       "...                                                 ...       ...  \n",
       "5851  data/resized/val_PNEUMONIA_person1949_bacteria...         1  \n",
       "5852  data/resized/val_PNEUMONIA_person1950_bacteria...         1  \n",
       "5853  data/resized/val_PNEUMONIA_person1951_bacteria...         1  \n",
       "5854  data/resized/val_PNEUMONIA_person1952_bacteria...         1  \n",
       "5855  data/resized/val_PNEUMONIA_person1954_bacteria...         1  \n",
       "\n",
       "[5856 rows x 5 columns]"
      ]
     },
     "execution_count": 6,
     "metadata": {},
     "output_type": "execute_result"
    }
   ],
   "source": [
    "data_map"
   ]
  },
  {
   "cell_type": "code",
   "execution_count": 7,
   "id": "49523835",
   "metadata": {},
   "outputs": [
    {
     "data": {
      "image/jpeg": "[encoded data removed]",
      "image/png": "[encoded data removed]",
      "text/plain": [
       "<PIL.JpegImagePlugin.JpegImageFile image mode=L size=128x128>"
      ]
     },
     "execution_count": 7,
     "metadata": {},
     "output_type": "execute_result"
    }
   ],
   "source": [
    "i = data_map['resized'][1]\n",
    "Image.open(i)"
   ]
  },
  {
   "cell_type": "code",
   "execution_count": 8,
   "id": "a386022d",
   "metadata": {},
   "outputs": [],
   "source": [
    "import torch\n",
    "from torch import nn\n",
    "from torch.utils.data import Dataset, DataLoader\n",
    "from torchvision import transforms, models"
   ]
  },
  {
   "cell_type": "code",
   "execution_count": 9,
   "id": "86e3efe6",
   "metadata": {},
   "outputs": [],
   "source": [
    "class XrayDataset(Dataset):\n",
    "\n",
    "    def __init__(self, df_split, transform):\n",
    "\n",
    "        self.df_split = df_split\n",
    "        self.transform = transform\n",
    "\n",
    "    def __len__(self):\n",
    "        return len(self.df_split)\n",
    "    \n",
    "    def __getitem__(self, index):\n",
    "        \n",
    "        img_path = self.df_split.iloc[index][\"resized\"]\n",
    "\n",
    "        clas = self.df_split.iloc[index][\"clas_enc\"]\n",
    "\n",
    "        img = Image.open(img_path).convert(\"L\") #converting to grayscale\n",
    "\n",
    "        img_trans = self.transform(img)\n",
    "\n",
    "        return img_trans, clas\n"
   ]
  },
  {
   "cell_type": "code",
   "execution_count": 10,
   "id": "031be572",
   "metadata": {},
   "outputs": [],
   "source": [
    "train_dataset = XrayDataset(data_map[data_map['Split'] == 'train'], transform=transforms.ToTensor())\n",
    "val_dataset = XrayDataset(data_map[data_map['Split'] == 'val'], transform=transforms.ToTensor())\n",
    "test_dataset = XrayDataset(data_map[data_map['Split'] == 'test'], transform=transforms.ToTensor())"
   ]
  },
  {
   "cell_type": "code",
   "execution_count": 11,
   "id": "8e3f8966",
   "metadata": {},
   "outputs": [
    {
     "data": {
      "text/plain": [
       "(tensor([[[0.4314, 0.4118, 0.4902,  ..., 0.0510, 0.0549, 0.0588],\n",
       "          [0.3765, 0.4706, 0.4314,  ..., 0.1059, 0.1137, 0.1176],\n",
       "          [0.3882, 0.4784, 0.4235,  ..., 0.1843, 0.1922, 0.2000],\n",
       "          ...,\n",
       "          [0.0000, 0.0000, 0.0000,  ..., 0.0000, 0.0000, 0.0000],\n",
       "          [0.0000, 0.0000, 0.0000,  ..., 0.0000, 0.0000, 0.0000],\n",
       "          [0.0000, 0.0000, 0.0000,  ..., 0.0000, 0.0000, 0.0000]]]),\n",
       " np.int64(0))"
      ]
     },
     "execution_count": 11,
     "metadata": {},
     "output_type": "execute_result"
    }
   ],
   "source": [
    "train_dataset[10]"
   ]
  },
  {
   "cell_type": "code",
   "execution_count": 12,
   "id": "5a907b1c",
   "metadata": {},
   "outputs": [],
   "source": [
    "train_loader = DataLoader(train_dataset, batch_size=32, shuffle=True)\n",
    "val_loader = DataLoader(val_dataset, batch_size=32, shuffle=True)\n",
    "test_loader = DataLoader(test_dataset, batch_size=32, shuffle=True)"
   ]
  },
  {
   "cell_type": "code",
   "execution_count": 13,
   "id": "08bfd32e",
   "metadata": {},
   "outputs": [],
   "source": [
    "model = models.resnet50(weights = models.ResNet50_Weights.IMAGENET1K_V2)"
   ]
  },
  {
   "cell_type": "code",
   "execution_count": 14,
   "id": "d40629fc",
   "metadata": {},
   "outputs": [
    {
     "data": {
      "text/plain": [
       "ResNet(\n",
       "  (conv1): Conv2d(3, 64, kernel_size=(7, 7), stride=(2, 2), padding=(3, 3), bias=False)\n",
       "  (bn1): BatchNorm2d(64, eps=1e-05, momentum=0.1, affine=True, track_running_stats=True)\n",
       "  (relu): ReLU(inplace=True)\n",
       "  (maxpool): MaxPool2d(kernel_size=3, stride=2, padding=1, dilation=1, ceil_mode=False)\n",
       "  (layer1): Sequential(\n",
       "    (0): Bottleneck(\n",
       "      (conv1): Conv2d(64, 64, kernel_size=(1, 1), stride=(1, 1), bias=False)\n",
       "      (bn1): BatchNorm2d(64, eps=1e-05, momentum=0.1, affine=True, track_running_stats=True)\n",
       "      (conv2): Conv2d(64, 64, kernel_size=(3, 3), stride=(1, 1), padding=(1, 1), bias=False)\n",
       "      (bn2): BatchNorm2d(64, eps=1e-05, momentum=0.1, affine=True, track_running_stats=True)\n",
       "      (conv3): Conv2d(64, 256, kernel_size=(1, 1), stride=(1, 1), bias=False)\n",
       "      (bn3): BatchNorm2d(256, eps=1e-05, momentum=0.1, affine=True, track_running_stats=True)\n",
       "      (relu): ReLU(inplace=True)\n",
       "      (downsample): Sequential(\n",
       "        (0): Conv2d(64, 256, kernel_size=(1, 1), stride=(1, 1), bias=False)\n",
       "        (1): BatchNorm2d(256, eps=1e-05, momentum=0.1, affine=True, track_running_stats=True)\n",
       "      )\n",
       "    )\n",
       "    (1): Bottleneck(\n",
       "      (conv1): Conv2d(256, 64, kernel_size=(1, 1), stride=(1, 1), bias=False)\n",
       "      (bn1): BatchNorm2d(64, eps=1e-05, momentum=0.1, affine=True, track_running_stats=True)\n",
       "      (conv2): Conv2d(64, 64, kernel_size=(3, 3), stride=(1, 1), padding=(1, 1), bias=False)\n",
       "      (bn2): BatchNorm2d(64, eps=1e-05, momentum=0.1, affine=True, track_running_stats=True)\n",
       "      (conv3): Conv2d(64, 256, kernel_size=(1, 1), stride=(1, 1), bias=False)\n",
       "      (bn3): BatchNorm2d(256, eps=1e-05, momentum=0.1, affine=True, track_running_stats=True)\n",
       "      (relu): ReLU(inplace=True)\n",
       "    )\n",
       "    (2): Bottleneck(\n",
       "      (conv1): Conv2d(256, 64, kernel_size=(1, 1), stride=(1, 1), bias=False)\n",
       "      (bn1): BatchNorm2d(64, eps=1e-05, momentum=0.1, affine=True, track_running_stats=True)\n",
       "      (conv2): Conv2d(64, 64, kernel_size=(3, 3), stride=(1, 1), padding=(1, 1), bias=False)\n",
       "      (bn2): BatchNorm2d(64, eps=1e-05, momentum=0.1, affine=True, track_running_stats=True)\n",
       "      (conv3): Conv2d(64, 256, kernel_size=(1, 1), stride=(1, 1), bias=False)\n",
       "      (bn3): BatchNorm2d(256, eps=1e-05, momentum=0.1, affine=True, track_running_stats=True)\n",
       "      (relu): ReLU(inplace=True)\n",
       "    )\n",
       "  )\n",
       "  (layer2): Sequential(\n",
       "    (0): Bottleneck(\n",
       "      (conv1): Conv2d(256, 128, kernel_size=(1, 1), stride=(1, 1), bias=False)\n",
       "      (bn1): BatchNorm2d(128, eps=1e-05, momentum=0.1, affine=True, track_running_stats=True)\n",
       "      (conv2): Conv2d(128, 128, kernel_size=(3, 3), stride=(2, 2), padding=(1, 1), bias=False)\n",
       "      (bn2): BatchNorm2d(128, eps=1e-05, momentum=0.1, affine=True, track_running_stats=True)\n",
       "      (conv3): Conv2d(128, 512, kernel_size=(1, 1), stride=(1, 1), bias=False)\n",
       "      (bn3): BatchNorm2d(512, eps=1e-05, momentum=0.1, affine=True, track_running_stats=True)\n",
       "      (relu): ReLU(inplace=True)\n",
       "      (downsample): Sequential(\n",
       "        (0): Conv2d(256, 512, kernel_size=(1, 1), stride=(2, 2), bias=False)\n",
       "        (1): BatchNorm2d(512, eps=1e-05, momentum=0.1, affine=True, track_running_stats=True)\n",
       "      )\n",
       "    )\n",
       "    (1): Bottleneck(\n",
       "      (conv1): Conv2d(512, 128, kernel_size=(1, 1), stride=(1, 1), bias=False)\n",
       "      (bn1): BatchNorm2d(128, eps=1e-05, momentum=0.1, affine=True, track_running_stats=True)\n",
       "      (conv2): Conv2d(128, 128, kernel_size=(3, 3), stride=(1, 1), padding=(1, 1), bias=False)\n",
       "      (bn2): BatchNorm2d(128, eps=1e-05, momentum=0.1, affine=True, track_running_stats=True)\n",
       "      (conv3): Conv2d(128, 512, kernel_size=(1, 1), stride=(1, 1), bias=False)\n",
       "      (bn3): BatchNorm2d(512, eps=1e-05, momentum=0.1, affine=True, track_running_stats=True)\n",
       "      (relu): ReLU(inplace=True)\n",
       "    )\n",
       "    (2): Bottleneck(\n",
       "      (conv1): Conv2d(512, 128, kernel_size=(1, 1), stride=(1, 1), bias=False)\n",
       "      (bn1): BatchNorm2d(128, eps=1e-05, momentum=0.1, affine=True, track_running_stats=True)\n",
       "      (conv2): Conv2d(128, 128, kernel_size=(3, 3), stride=(1, 1), padding=(1, 1), bias=False)\n",
       "      (bn2): BatchNorm2d(128, eps=1e-05, momentum=0.1, affine=True, track_running_stats=True)\n",
       "      (conv3): Conv2d(128, 512, kernel_size=(1, 1), stride=(1, 1), bias=False)\n",
       "      (bn3): BatchNorm2d(512, eps=1e-05, momentum=0.1, affine=True, track_running_stats=True)\n",
       "      (relu): ReLU(inplace=True)\n",
       "    )\n",
       "    (3): Bottleneck(\n",
       "      (conv1): Conv2d(512, 128, kernel_size=(1, 1), stride=(1, 1), bias=False)\n",
       "      (bn1): BatchNorm2d(128, eps=1e-05, momentum=0.1, affine=True, track_running_stats=True)\n",
       "      (conv2): Conv2d(128, 128, kernel_size=(3, 3), stride=(1, 1), padding=(1, 1), bias=False)\n",
       "      (bn2): BatchNorm2d(128, eps=1e-05, momentum=0.1, affine=True, track_running_stats=True)\n",
       "      (conv3): Conv2d(128, 512, kernel_size=(1, 1), stride=(1, 1), bias=False)\n",
       "      (bn3): BatchNorm2d(512, eps=1e-05, momentum=0.1, affine=True, track_running_stats=True)\n",
       "      (relu): ReLU(inplace=True)\n",
       "    )\n",
       "  )\n",
       "  (layer3): Sequential(\n",
       "    (0): Bottleneck(\n",
       "      (conv1): Conv2d(512, 256, kernel_size=(1, 1), stride=(1, 1), bias=False)\n",
       "      (bn1): BatchNorm2d(256, eps=1e-05, momentum=0.1, affine=True, track_running_stats=True)\n",
       "      (conv2): Conv2d(256, 256, kernel_size=(3, 3), stride=(2, 2), padding=(1, 1), bias=False)\n",
       "      (bn2): BatchNorm2d(256, eps=1e-05, momentum=0.1, affine=True, track_running_stats=True)\n",
       "      (conv3): Conv2d(256, 1024, kernel_size=(1, 1), stride=(1, 1), bias=False)\n",
       "      (bn3): BatchNorm2d(1024, eps=1e-05, momentum=0.1, affine=True, track_running_stats=True)\n",
       "      (relu): ReLU(inplace=True)\n",
       "      (downsample): Sequential(\n",
       "        (0): Conv2d(512, 1024, kernel_size=(1, 1), stride=(2, 2), bias=False)\n",
       "        (1): BatchNorm2d(1024, eps=1e-05, momentum=0.1, affine=True, track_running_stats=True)\n",
       "      )\n",
       "    )\n",
       "    (1): Bottleneck(\n",
       "      (conv1): Conv2d(1024, 256, kernel_size=(1, 1), stride=(1, 1), bias=False)\n",
       "      (bn1): BatchNorm2d(256, eps=1e-05, momentum=0.1, affine=True, track_running_stats=True)\n",
       "      (conv2): Conv2d(256, 256, kernel_size=(3, 3), stride=(1, 1), padding=(1, 1), bias=False)\n",
       "      (bn2): BatchNorm2d(256, eps=1e-05, momentum=0.1, affine=True, track_running_stats=True)\n",
       "      (conv3): Conv2d(256, 1024, kernel_size=(1, 1), stride=(1, 1), bias=False)\n",
       "      (bn3): BatchNorm2d(1024, eps=1e-05, momentum=0.1, affine=True, track_running_stats=True)\n",
       "      (relu): ReLU(inplace=True)\n",
       "    )\n",
       "    (2): Bottleneck(\n",
       "      (conv1): Conv2d(1024, 256, kernel_size=(1, 1), stride=(1, 1), bias=False)\n",
       "      (bn1): BatchNorm2d(256, eps=1e-05, momentum=0.1, affine=True, track_running_stats=True)\n",
       "      (conv2): Conv2d(256, 256, kernel_size=(3, 3), stride=(1, 1), padding=(1, 1), bias=False)\n",
       "      (bn2): BatchNorm2d(256, eps=1e-05, momentum=0.1, affine=True, track_running_stats=True)\n",
       "      (conv3): Conv2d(256, 1024, kernel_size=(1, 1), stride=(1, 1), bias=False)\n",
       "      (bn3): BatchNorm2d(1024, eps=1e-05, momentum=0.1, affine=True, track_running_stats=True)\n",
       "      (relu): ReLU(inplace=True)\n",
       "    )\n",
       "    (3): Bottleneck(\n",
       "      (conv1): Conv2d(1024, 256, kernel_size=(1, 1), stride=(1, 1), bias=False)\n",
       "      (bn1): BatchNorm2d(256, eps=1e-05, momentum=0.1, affine=True, track_running_stats=True)\n",
       "      (conv2): Conv2d(256, 256, kernel_size=(3, 3), stride=(1, 1), padding=(1, 1), bias=False)\n",
       "      (bn2): BatchNorm2d(256, eps=1e-05, momentum=0.1, affine=True, track_running_stats=True)\n",
       "      (conv3): Conv2d(256, 1024, kernel_size=(1, 1), stride=(1, 1), bias=False)\n",
       "      (bn3): BatchNorm2d(1024, eps=1e-05, momentum=0.1, affine=True, track_running_stats=True)\n",
       "      (relu): ReLU(inplace=True)\n",
       "    )\n",
       "    (4): Bottleneck(\n",
       "      (conv1): Conv2d(1024, 256, kernel_size=(1, 1), stride=(1, 1), bias=False)\n",
       "      (bn1): BatchNorm2d(256, eps=1e-05, momentum=0.1, affine=True, track_running_stats=True)\n",
       "      (conv2): Conv2d(256, 256, kernel_size=(3, 3), stride=(1, 1), padding=(1, 1), bias=False)\n",
       "      (bn2): BatchNorm2d(256, eps=1e-05, momentum=0.1, affine=True, track_running_stats=True)\n",
       "      (conv3): Conv2d(256, 1024, kernel_size=(1, 1), stride=(1, 1), bias=False)\n",
       "      (bn3): BatchNorm2d(1024, eps=1e-05, momentum=0.1, affine=True, track_running_stats=True)\n",
       "      (relu): ReLU(inplace=True)\n",
       "    )\n",
       "    (5): Bottleneck(\n",
       "      (conv1): Conv2d(1024, 256, kernel_size=(1, 1), stride=(1, 1), bias=False)\n",
       "      (bn1): BatchNorm2d(256, eps=1e-05, momentum=0.1, affine=True, track_running_stats=True)\n",
       "      (conv2): Conv2d(256, 256, kernel_size=(3, 3), stride=(1, 1), padding=(1, 1), bias=False)\n",
       "      (bn2): BatchNorm2d(256, eps=1e-05, momentum=0.1, affine=True, track_running_stats=True)\n",
       "      (conv3): Conv2d(256, 1024, kernel_size=(1, 1), stride=(1, 1), bias=False)\n",
       "      (bn3): BatchNorm2d(1024, eps=1e-05, momentum=0.1, affine=True, track_running_stats=True)\n",
       "      (relu): ReLU(inplace=True)\n",
       "    )\n",
       "  )\n",
       "  (layer4): Sequential(\n",
       "    (0): Bottleneck(\n",
       "      (conv1): Conv2d(1024, 512, kernel_size=(1, 1), stride=(1, 1), bias=False)\n",
       "      (bn1): BatchNorm2d(512, eps=1e-05, momentum=0.1, affine=True, track_running_stats=True)\n",
       "      (conv2): Conv2d(512, 512, kernel_size=(3, 3), stride=(2, 2), padding=(1, 1), bias=False)\n",
       "      (bn2): BatchNorm2d(512, eps=1e-05, momentum=0.1, affine=True, track_running_stats=True)\n",
       "      (conv3): Conv2d(512, 2048, kernel_size=(1, 1), stride=(1, 1), bias=False)\n",
       "      (bn3): BatchNorm2d(2048, eps=1e-05, momentum=0.1, affine=True, track_running_stats=True)\n",
       "      (relu): ReLU(inplace=True)\n",
       "      (downsample): Sequential(\n",
       "        (0): Conv2d(1024, 2048, kernel_size=(1, 1), stride=(2, 2), bias=False)\n",
       "        (1): BatchNorm2d(2048, eps=1e-05, momentum=0.1, affine=True, track_running_stats=True)\n",
       "      )\n",
       "    )\n",
       "    (1): Bottleneck(\n",
       "      (conv1): Conv2d(2048, 512, kernel_size=(1, 1), stride=(1, 1), bias=False)\n",
       "      (bn1): BatchNorm2d(512, eps=1e-05, momentum=0.1, affine=True, track_running_stats=True)\n",
       "      (conv2): Conv2d(512, 512, kernel_size=(3, 3), stride=(1, 1), padding=(1, 1), bias=False)\n",
       "      (bn2): BatchNorm2d(512, eps=1e-05, momentum=0.1, affine=True, track_running_stats=True)\n",
       "      (conv3): Conv2d(512, 2048, kernel_size=(1, 1), stride=(1, 1), bias=False)\n",
       "      (bn3): BatchNorm2d(2048, eps=1e-05, momentum=0.1, affine=True, track_running_stats=True)\n",
       "      (relu): ReLU(inplace=True)\n",
       "    )\n",
       "    (2): Bottleneck(\n",
       "      (conv1): Conv2d(2048, 512, kernel_size=(1, 1), stride=(1, 1), bias=False)\n",
       "      (bn1): BatchNorm2d(512, eps=1e-05, momentum=0.1, affine=True, track_running_stats=True)\n",
       "      (conv2): Conv2d(512, 512, kernel_size=(3, 3), stride=(1, 1), padding=(1, 1), bias=False)\n",
       "      (bn2): BatchNorm2d(512, eps=1e-05, momentum=0.1, affine=True, track_running_stats=True)\n",
       "      (conv3): Conv2d(512, 2048, kernel_size=(1, 1), stride=(1, 1), bias=False)\n",
       "      (bn3): BatchNorm2d(2048, eps=1e-05, momentum=0.1, affine=True, track_running_stats=True)\n",
       "      (relu): ReLU(inplace=True)\n",
       "    )\n",
       "  )\n",
       "  (avgpool): AdaptiveAvgPool2d(output_size=(1, 1))\n",
       "  (fc): Linear(in_features=2048, out_features=1000, bias=True)\n",
       ")"
      ]
     },
     "execution_count": 14,
     "metadata": {},
     "output_type": "execute_result"
    }
   ],
   "source": [
    " models.resnet50(weights = models.ResNet50_Weights.IMAGENET1K_V2)"
   ]
  },
  {
   "cell_type": "code",
   "execution_count": 15,
   "id": "dccd6613",
   "metadata": {},
   "outputs": [
    {
     "ename": "NameError",
     "evalue": "name 'num_ftrs' is not defined",
     "output_type": "error",
     "traceback": [
      "\u001b[1;31m---------------------------------------------------------------------------\u001b[0m",
      "\u001b[1;31mNameError\u001b[0m                                 Traceback (most recent call last)",
      "Cell \u001b[1;32mIn[15], line 1\u001b[0m\n\u001b[1;32m----> 1\u001b[0m \u001b[43mnum_ftrs\u001b[49m\n",
      "\u001b[1;31mNameError\u001b[0m: name 'num_ftrs' is not defined"
     ]
    }
   ],
   "source": [
    "num_ftrs"
   ]
  },
  {
   "cell_type": "code",
   "execution_count": 17,
   "id": "4e624903",
   "metadata": {},
   "outputs": [],
   "source": [
    "model.conv1 = nn.Conv2d(1, 64, kernel_size=(4, 4), stride=(2, 2), padding=(3, 3), bias=False)\n",
    "num_ftrs = model.fc.in_features\n",
    "model.fc = nn.Linear(in_features=num_ftrs, out_features=2, bias=True)\n"
   ]
  },
  {
   "cell_type": "code",
   "execution_count": 18,
   "id": "df889008",
   "metadata": {},
   "outputs": [],
   "source": [
    "device = torch.device(\"cuda\")"
   ]
  },
  {
   "cell_type": "code",
   "execution_count": 19,
   "id": "98622a1a",
   "metadata": {},
   "outputs": [
    {
     "data": {
      "text/plain": [
       "device(type='cuda')"
      ]
     },
     "execution_count": 19,
     "metadata": {},
     "output_type": "execute_result"
    }
   ],
   "source": [
    "device"
   ]
  },
  {
   "cell_type": "code",
   "execution_count": 20,
   "id": "5ead988f",
   "metadata": {},
   "outputs": [
    {
     "name": "stdout",
     "output_type": "stream",
     "text": [
      "12.8\n",
      "True\n"
     ]
    }
   ],
   "source": [
    "import torch\n",
    "print(torch.version.cuda)  # Should show 12.8 or your installed version\n",
    "print(torch.cuda.is_available())  # Should return True if CUDA is available\n"
   ]
  },
  {
   "cell_type": "code",
   "execution_count": 21,
   "id": "499ea00b",
   "metadata": {},
   "outputs": [],
   "source": [
    "# Ensure that model and model2 are properly moved to the device without redefinition\n",
    "model = model.to(device)"
   ]
  },
  {
   "cell_type": "code",
   "execution_count": 22,
   "id": "0c1871b9",
   "metadata": {},
   "outputs": [],
   "source": [
    "from tqdm import tqdm"
   ]
  },
  {
   "cell_type": "code",
   "execution_count": 23,
   "id": "7e8cc2c3",
   "metadata": {},
   "outputs": [],
   "source": [
    "import torch\n",
    "from tqdm import tqdm\n",
    "import os\n",
    "\n",
    "class Trainer:\n",
    "    def __init__(self, model, criterion, optimizer, device, early_stopping, \n",
    "                 model_save_path=\"models/best_model4.pth\", epoch_weights_dir=\"weights\",\n",
    "                 test_loader=None):\n",
    "        self.model = model\n",
    "        self.criterion = criterion\n",
    "        self.optimizer = optimizer\n",
    "        self.device = device\n",
    "        self.early_stopping = early_stopping\n",
    "        self.model_save_path = model_save_path\n",
    "        self.epoch_weights_dir = epoch_weights_dir\n",
    "        self.test_loader = test_loader\n",
    "\n",
    "        self.train_losses = []\n",
    "        self.val_losses = []\n",
    "        self.test_losses = []\n",
    "        self.train_accs = []\n",
    "        self.val_accs = []\n",
    "        self.test_accs = []\n",
    "\n",
    "        os.makedirs(os.path.dirname(model_save_path), exist_ok=True)\n",
    "        os.makedirs(epoch_weights_dir, exist_ok=True)\n",
    "        \n",
    "\n",
    "    def train_epoch(self, train_loader, epoch_desc=\"Training\"):\n",
    "        self.model.train()\n",
    "        running_loss, correct, total = 0.0, 0, 0\n",
    "        pbar = tqdm(train_loader, desc=epoch_desc)\n",
    "\n",
    "        for images, labels in pbar:\n",
    "            images, labels = images.to(self.device), labels.to(self.device)\n",
    "            self.optimizer.zero_grad()\n",
    "            outputs = self.model(images)\n",
    "            loss_value = self.criterion(outputs, labels)\n",
    "            loss_value.backward()\n",
    "            self.optimizer.step()\n",
    "\n",
    "            running_loss += loss_value.item()\n",
    "            _, predicted = torch.max(outputs.data, 1)\n",
    "            total += labels.size(0)\n",
    "            correct += (predicted == labels).sum().item()\n",
    "            pbar.set_postfix({'loss': running_loss / (pbar.n + 1), 'acc': correct / total})\n",
    "\n",
    "        return running_loss / len(train_loader), correct / total\n",
    "\n",
    "    def validate_epoch(self, val_loader):\n",
    "        self.model.eval()\n",
    "        val_loss, correct, total = 0.0, 0, 0\n",
    "        with torch.no_grad():\n",
    "            for images, labels in tqdm(val_loader, desc=\"Validation\"):\n",
    "                images, labels = images.to(self.device), labels.to(self.device)\n",
    "                outputs = self.model(images)\n",
    "                loss_value = self.criterion(outputs, labels)\n",
    "                val_loss += loss_value.item()\n",
    "                _, predicted = torch.max(outputs.data, 1)\n",
    "                total += labels.size(0)\n",
    "                correct += (predicted == labels).sum().item()\n",
    "        return val_loss / len(val_loader), correct / total\n",
    "\n",
    "    def test_epoch(self, test_loader):\n",
    "        self.model.eval()\n",
    "        test_loss, correct, total = 0.0, 0, 0\n",
    "        with torch.no_grad():\n",
    "            for images, labels in tqdm(test_loader, desc=\"Testing\"):\n",
    "                images, labels = images.to(self.device), labels.to(self.device)\n",
    "                outputs = self.model(images)\n",
    "                loss_value = self.criterion(outputs, labels)\n",
    "                test_loss += loss_value.item()\n",
    "                _, predicted = torch.max(outputs.data, 1)\n",
    "                total += labels.size(0)\n",
    "                correct += (predicted == labels).sum().item()\n",
    "        return test_loss / len(test_loader), correct / total\n",
    "\n",
    "    def run_training(self, train_loader, val_loader, num_epochs=30):\n",
    "        best_val_acc = 0.0  # Track best accuracy\n",
    "\n",
    "        for epoch in range(num_epochs):\n",
    "            torch.cuda.empty_cache()\n",
    "            print(f\"\\n=== Epoch [{epoch+1}/{num_epochs}] ===\")\n",
    "\n",
    "            train_loss, train_acc = self.train_epoch(train_loader, epoch_desc=f\"Epoch {epoch+1}\")\n",
    "            val_loss, val_acc = self.validate_epoch(val_loader)\n",
    "\n",
    "            self.train_losses.append(train_loss)\n",
    "            self.train_accs.append(train_acc)\n",
    "            self.val_losses.append(val_loss)\n",
    "            self.val_accs.append(val_acc)\n",
    "\n",
    "            print(f\"Train Loss: {train_loss:.4f}, Accuracy: {train_acc:.4f}\")\n",
    "            print(f\"Validation Loss: {val_loss:.4f}, Accuracy: {val_acc:.4f}\")\n",
    "\n",
    "            if self.test_loader:\n",
    "                test_loss, test_acc = self.test_epoch(self.test_loader)\n",
    "                self.test_losses.append(test_loss)\n",
    "                self.test_accs.append(test_acc)\n",
    "                print(f\"Test Loss: {test_loss:.4f}, Accuracy: {test_acc:.4f}\")\n",
    "\n",
    "            # Save current epoch weights\n",
    "            torch.save(self.model.state_dict(), os.path.join(self.epoch_weights_dir, f\"epoch_{epoch+1}_weights.pth\"))\n",
    "\n",
    "            # Save best model based on validation accuracy\n",
    "            if val_acc > best_val_acc:\n",
    "                best_val_acc = val_acc\n",
    "                print(f\"Validation accuracy improved to {val_acc:.4f}. Saving best model.\")\n",
    "                torch.save(self.model.state_dict(), self.model_save_path)\n",
    "\n",
    "            # Early stopping based on validation loss\n",
    "            if self.early_stopping(val_acc):\n",
    "                print(\"Early stopping triggered.\")\n",
    "                break\n",
    "\n",
    "    def evaluate_model(self, data_loader):\n",
    "        return self.test_epoch(data_loader)\n"
   ]
  },
  {
   "cell_type": "code",
   "execution_count": 24,
   "id": "2e9dbda6",
   "metadata": {},
   "outputs": [
    {
     "ename": "NameError",
     "evalue": "name 'EarlyStopping' is not defined",
     "output_type": "error",
     "traceback": [
      "\u001b[1;31m---------------------------------------------------------------------------\u001b[0m",
      "\u001b[1;31mNameError\u001b[0m                                 Traceback (most recent call last)",
      "Cell \u001b[1;32mIn[24], line 5\u001b[0m\n\u001b[0;32m      3\u001b[0m optimizer \u001b[38;5;241m=\u001b[39m torch\u001b[38;5;241m.\u001b[39moptim\u001b[38;5;241m.\u001b[39mAdam(model\u001b[38;5;241m.\u001b[39mparameters(), lr\u001b[38;5;241m=\u001b[39m\u001b[38;5;241m0.0001\u001b[39m)\n\u001b[0;32m      4\u001b[0m criterion \u001b[38;5;241m=\u001b[39m nn\u001b[38;5;241m.\u001b[39mCrossEntropyLoss()\n\u001b[1;32m----> 5\u001b[0m early_stopping \u001b[38;5;241m=\u001b[39m \u001b[43mEarlyStopping\u001b[49m(patience\u001b[38;5;241m=\u001b[39m\u001b[38;5;241m7\u001b[39m, verbose\u001b[38;5;241m=\u001b[39m\u001b[38;5;28;01mTrue\u001b[39;00m)\n\u001b[0;32m      7\u001b[0m trainer \u001b[38;5;241m=\u001b[39m Trainer(\n\u001b[0;32m      8\u001b[0m     model\u001b[38;5;241m=\u001b[39mmodel,\n\u001b[0;32m      9\u001b[0m     criterion\u001b[38;5;241m=\u001b[39mcriterion,\n\u001b[1;32m   (...)\u001b[0m\n\u001b[0;32m     15\u001b[0m     test_loader\u001b[38;5;241m=\u001b[39mtest_loader  \u001b[38;5;66;03m# Include test loader if you want test each epoch\u001b[39;00m\n\u001b[0;32m     16\u001b[0m )\n\u001b[0;32m     18\u001b[0m trainer\u001b[38;5;241m.\u001b[39mrun_training(train_loader, val_loader, num_epochs\u001b[38;5;241m=\u001b[39m\u001b[38;5;241m30\u001b[39m)\n",
      "\u001b[1;31mNameError\u001b[0m: name 'EarlyStopping' is not defined"
     ]
    }
   ],
   "source": [
    "import torch.nn as nn\n",
    "#early_stopping\n",
    "optimizer = torch.optim.Adam(model.parameters(), lr=0.0001)\n",
    "criterion = nn.CrossEntropyLoss()\n",
    "early_stopping = EarlyStopping(patience=7, verbose=True)\n",
    "\n",
    "trainer = Trainer(\n",
    "    model=model,\n",
    "    criterion=criterion,\n",
    "    optimizer=optimizer,\n",
    "    device=device,\n",
    "    early_stopping=early_stopping,\n",
    "    model_save_path=\"models/best_model4.pth\",\n",
    "    epoch_weights_dir=\"weights\",\n",
    "    test_loader=test_loader  # Include test loader if you want test each epoch\n",
    ")\n",
    "\n",
    "trainer.run_training(train_loader, val_loader, num_epochs=30)\n"
   ]
  },
  {
   "cell_type": "code",
   "execution_count": 65,
   "id": "07d45de5",
   "metadata": {},
   "outputs": [
    {
     "data": {
      "image/png": "[encoded data removed]",
      "text/plain": [
       "<Figure size 1200x500 with 2 Axes>"
      ]
     },
     "metadata": {},
     "output_type": "display_data"
    }
   ],
   "source": [
    "import matplotlib.pyplot as plt\n",
    "\n",
    "epochs = range(1, len(trainer.train_losses) + 1)\n",
    "\n",
    "plt.figure(figsize=(12, 5))\n",
    "\n",
    "plt.subplot(1, 2, 1)\n",
    "plt.plot(epochs, trainer.train_losses, label='Train Loss')\n",
    "plt.plot(epochs, trainer.val_losses, label='Validation Loss')\n",
    "if trainer.test_losses:\n",
    "    plt.plot(epochs, trainer.test_losses, label='Test Loss')\n",
    "plt.xlabel('Epoch')\n",
    "plt.ylabel('Loss')\n",
    "plt.legend()\n",
    "plt.title('Losses')\n",
    "\n",
    "plt.subplot(1, 2, 2)\n",
    "plt.plot(epochs, trainer.train_accs, label='Train Accuracy')\n",
    "plt.plot(epochs, trainer.val_accs, label='Validation Accuracy')\n",
    "if trainer.test_accs:\n",
    "    plt.plot(epochs, trainer.test_accs, label='Test Accuracy')\n",
    "plt.xlabel('Epoch')\n",
    "plt.ylabel('Accuracy')\n",
    "plt.legend()\n",
    "plt.title('Accuracies')\n",
    "\n",
    "plt.tight_layout()\n",
    "plt.show()\n"
   ]
  },
  {
   "cell_type": "code",
   "execution_count": 68,
   "id": "5cb2e4cd",
   "metadata": {},
   "outputs": [],
   "source": [
    "import os\n",
    "import torch\n",
    "import torch.nn as nn\n",
    "from torchvision import models\n",
    "\n",
    "def evaluate_all_models(model_dir, test_loader, device, trainer):\n",
    "    model_files = [f for f in os.listdir(model_dir) if f.endswith('.pth')]\n",
    "    accuracies = {}\n",
    "\n",
    "    for model_file in model_files:\n",
    "        model_path = os.path.join(model_dir, model_file)\n",
    "        print(f\"Evaluating {model_file}...\")\n",
    "\n",
    "        # Create a fresh resnet50 model\n",
    "        model = models.resnet50(weights=None)\n",
    "\n",
    "        # Modify the first conv layer to accept 1 channel (grayscale images)\n",
    "        model.conv1 = nn.Conv2d(1, 64, kernel_size=7, stride=2, padding=3, bias=False)\n",
    "\n",
    "        # Modify the last fully connected layer for binary classification\n",
    "        num_ftrs = model.fc.in_features\n",
    "        model.fc = nn.Linear(in_features=num_ftrs, out_features=2, bias=True)\n",
    "\n",
    "        # Load the model weights\n",
    "        model.load_state_dict(torch.load(model_path, map_location=device))\n",
    "        model.to(device)\n",
    "\n",
    "        # Evaluate the model\n",
    "        test_loss, test_acc = trainer.evaluate_model(model, test_loader)\n",
    "        accuracies[model_file] = test_acc\n",
    "        print(f\"Test Accuracy: {test_acc:.4f}\")\n",
    "\n",
    "    return accuracies\n"
   ]
  },
  {
   "cell_type": "markdown",
   "id": "8efbb598",
   "metadata": {},
   "source": [
    "Epoch 6 has the best weights with:  Validation Loss: 0.0159, Validation Accuracy: 1.0000 ,Train Loss: 0.0169, Train Accuracy: 0.9931\n",
    "\n"
   ]
  },
  {
   "cell_type": "code",
   "execution_count": 23,
   "id": "87ccd043",
   "metadata": {},
   "outputs": [],
   "source": [
    "import pickle\n",
    "\n",
    "with open(\"data/lbl_enoder.pkl\", \"wb\") as f:\n",
    "    pickle.dump(lbl_encoder, f)"
   ]
  },
  {
   "cell_type": "code",
   "execution_count": 24,
   "id": "f9e80701",
   "metadata": {},
   "outputs": [
    {
     "data": {
      "application/vnd.microsoft.datawrangler.viewer.v0+json": {
       "columns": [
        {
         "name": "index",
         "rawType": "int64",
         "type": "integer"
        },
        {
         "name": "Image",
         "rawType": "object",
         "type": "string"
        },
        {
         "name": "Class",
         "rawType": "object",
         "type": "string"
        },
        {
         "name": "Split",
         "rawType": "object",
         "type": "string"
        },
        {
         "name": "resized",
         "rawType": "object",
         "type": "string"
        },
        {
         "name": "clas_enc",
         "rawType": "int64",
         "type": "integer"
        }
       ],
       "conversionMethod": "pd.DataFrame",
       "ref": "6e27f071-db62-43ac-9020-f096fa0fddcb",
       "rows": [
        [
         "0",
         "D:\\Projects\\Github\\X_Ray_Classification\\data\\chest_xray\\chest_xray\\train\\NORMAL\\IM-0115-0001.jpeg",
         "NORMAL",
         "train",
         "data/resized/train_NORMAL_IM-0115-0001.jpeg",
         "0"
        ],
        [
         "1",
         "D:\\Projects\\Github\\X_Ray_Classification\\data\\chest_xray\\chest_xray\\train\\NORMAL\\IM-0117-0001.jpeg",
         "NORMAL",
         "train",
         "data/resized/train_NORMAL_IM-0117-0001.jpeg",
         "0"
        ],
        [
         "2",
         "D:\\Projects\\Github\\X_Ray_Classification\\data\\chest_xray\\chest_xray\\train\\NORMAL\\IM-0119-0001.jpeg",
         "NORMAL",
         "train",
         "data/resized/train_NORMAL_IM-0119-0001.jpeg",
         "0"
        ],
        [
         "3",
         "D:\\Projects\\Github\\X_Ray_Classification\\data\\chest_xray\\chest_xray\\train\\NORMAL\\IM-0122-0001.jpeg",
         "NORMAL",
         "train",
         "data/resized/train_NORMAL_IM-0122-0001.jpeg",
         "0"
        ],
        [
         "4",
         "D:\\Projects\\Github\\X_Ray_Classification\\data\\chest_xray\\chest_xray\\train\\NORMAL\\IM-0125-0001.jpeg",
         "NORMAL",
         "train",
         "data/resized/train_NORMAL_IM-0125-0001.jpeg",
         "0"
        ]
       ],
       "shape": {
        "columns": 5,
        "rows": 5
       }
      },
      "text/html": [
       "<div>\n",
       "<style scoped>\n",
       "    .dataframe tbody tr th:only-of-type {\n",
       "        vertical-align: middle;\n",
       "    }\n",
       "\n",
       "    .dataframe tbody tr th {\n",
       "        vertical-align: top;\n",
       "    }\n",
       "\n",
       "    .dataframe thead th {\n",
       "        text-align: right;\n",
       "    }\n",
       "</style>\n",
       "<table border=\"1\" class=\"dataframe\">\n",
       "  <thead>\n",
       "    <tr style=\"text-align: right;\">\n",
       "      <th></th>\n",
       "      <th>Image</th>\n",
       "      <th>Class</th>\n",
       "      <th>Split</th>\n",
       "      <th>resized</th>\n",
       "      <th>clas_enc</th>\n",
       "    </tr>\n",
       "  </thead>\n",
       "  <tbody>\n",
       "    <tr>\n",
       "      <th>0</th>\n",
       "      <td>D:\\Projects\\Github\\X_Ray_Classification\\data\\c...</td>\n",
       "      <td>NORMAL</td>\n",
       "      <td>train</td>\n",
       "      <td>data/resized/train_NORMAL_IM-0115-0001.jpeg</td>\n",
       "      <td>0</td>\n",
       "    </tr>\n",
       "    <tr>\n",
       "      <th>1</th>\n",
       "      <td>D:\\Projects\\Github\\X_Ray_Classification\\data\\c...</td>\n",
       "      <td>NORMAL</td>\n",
       "      <td>train</td>\n",
       "      <td>data/resized/train_NORMAL_IM-0117-0001.jpeg</td>\n",
       "      <td>0</td>\n",
       "    </tr>\n",
       "    <tr>\n",
       "      <th>2</th>\n",
       "      <td>D:\\Projects\\Github\\X_Ray_Classification\\data\\c...</td>\n",
       "      <td>NORMAL</td>\n",
       "      <td>train</td>\n",
       "      <td>data/resized/train_NORMAL_IM-0119-0001.jpeg</td>\n",
       "      <td>0</td>\n",
       "    </tr>\n",
       "    <tr>\n",
       "      <th>3</th>\n",
       "      <td>D:\\Projects\\Github\\X_Ray_Classification\\data\\c...</td>\n",
       "      <td>NORMAL</td>\n",
       "      <td>train</td>\n",
       "      <td>data/resized/train_NORMAL_IM-0122-0001.jpeg</td>\n",
       "      <td>0</td>\n",
       "    </tr>\n",
       "    <tr>\n",
       "      <th>4</th>\n",
       "      <td>D:\\Projects\\Github\\X_Ray_Classification\\data\\c...</td>\n",
       "      <td>NORMAL</td>\n",
       "      <td>train</td>\n",
       "      <td>data/resized/train_NORMAL_IM-0125-0001.jpeg</td>\n",
       "      <td>0</td>\n",
       "    </tr>\n",
       "  </tbody>\n",
       "</table>\n",
       "</div>"
      ],
      "text/plain": [
       "                                               Image   Class  Split  \\\n",
       "0  D:\\Projects\\Github\\X_Ray_Classification\\data\\c...  NORMAL  train   \n",
       "1  D:\\Projects\\Github\\X_Ray_Classification\\data\\c...  NORMAL  train   \n",
       "2  D:\\Projects\\Github\\X_Ray_Classification\\data\\c...  NORMAL  train   \n",
       "3  D:\\Projects\\Github\\X_Ray_Classification\\data\\c...  NORMAL  train   \n",
       "4  D:\\Projects\\Github\\X_Ray_Classification\\data\\c...  NORMAL  train   \n",
       "\n",
       "                                       resized  clas_enc  \n",
       "0  data/resized/train_NORMAL_IM-0115-0001.jpeg         0  \n",
       "1  data/resized/train_NORMAL_IM-0117-0001.jpeg         0  \n",
       "2  data/resized/train_NORMAL_IM-0119-0001.jpeg         0  \n",
       "3  data/resized/train_NORMAL_IM-0122-0001.jpeg         0  \n",
       "4  data/resized/train_NORMAL_IM-0125-0001.jpeg         0  "
      ]
     },
     "execution_count": 24,
     "metadata": {},
     "output_type": "execute_result"
    }
   ],
   "source": [
    "data_map.head()"
   ]
  },
  {
   "cell_type": "code",
   "execution_count": 25,
   "id": "832768bc",
   "metadata": {},
   "outputs": [
    {
     "data": {
      "text/plain": [
       "array(['train', 'test', 'val'], dtype=object)"
      ]
     },
     "execution_count": 25,
     "metadata": {},
     "output_type": "execute_result"
    }
   ],
   "source": [
    "data_map['Split'].unique()"
   ]
  },
  {
   "cell_type": "code",
   "execution_count": 26,
   "id": "6ec7bb6c",
   "metadata": {},
   "outputs": [
    {
     "data": {
      "text/plain": [
       "array([0, 1])"
      ]
     },
     "execution_count": 26,
     "metadata": {},
     "output_type": "execute_result"
    }
   ],
   "source": [
    "data_map['clas_enc'].unique()"
   ]
  },
  {
   "cell_type": "code",
   "execution_count": 27,
   "id": "55ba6e97",
   "metadata": {},
   "outputs": [
    {
     "data": {
      "text/plain": [
       "clas_enc\n",
       "1    4273\n",
       "0    1583\n",
       "Name: count, dtype: int64"
      ]
     },
     "execution_count": 27,
     "metadata": {},
     "output_type": "execute_result"
    }
   ],
   "source": [
    "data_map['clas_enc'].value_counts()"
   ]
  },
  {
   "cell_type": "code",
   "execution_count": 71,
   "id": "898f1525",
   "metadata": {},
   "outputs": [],
   "source": [
    "model = r\"D:\\Projects\\github\\X_Ray_Classification\\models\\best_model2.pth\""
   ]
  },
  {
   "cell_type": "code",
   "execution_count": null,
   "id": "9fd1eebb",
   "metadata": {},
   "outputs": [
    {
     "name": "stdout",
     "output_type": "stream",
     "text": [
      "Predicted class: PNEUMONIA\n"
     ]
    }
   ],
   "source": [
    "import torch\n",
    "from torchvision import models, transforms\n",
    "from torch import nn\n",
    "from PIL import Image\n",
    "\n",
    "# Load label encoder\n",
    "import pickle\n",
    "with open(\"D:\\Projects\\github\\X_Ray_Classification\\data\\lbl_encoder.pkl\", \"rb\") as f:\n",
    "    lbl_encoder = pickle.load(f)\n",
    "\n",
    "# Load the model architecture\n",
    "model = models.resnet50(weights=None)  # no weights because we will load ours\n",
    "model.conv1 = nn.Conv2d(1, 64, kernel_size=7, stride=2, padding=3, bias=False)\n",
    "num_ftrs = model.fc.in_features\n",
    "model.fc = nn.Linear(num_ftrs, 2)\n",
    "\n",
    "# Load saved weights\n",
    "model.load_state_dict(torch.load(r\"D:\\Projects\\github\\X_Ray_Classification\\models\\best_model.pth\", map_location=\"cuda\"))\n",
    "model.eval()\n",
    "model.to(\"cuda\")  # or \"cpu\" if you're not using GPU\n",
    "\n",
    "# Preprocess the image\n",
    "img_path = r\"D:\\Projects\\github\\X_Ray_Classification\\data\\chest_xray\\chest_xray\\resized\\train_PNEUMONIA_person529_bacteria_2229.jpeg\"\n",
    "img = Image.open(img_path).convert(\"L\")  # convert to grayscale\n",
    "img_tensor = transforms.ToTensor()(img).unsqueeze(0).to(\"cuda\")  # add batch dimension\n",
    "\n",
    "# Run prediction\n",
    "with torch.no_grad():\n",
    "    outputs = model(img_tensor)\n",
    "    predicted_class = torch.argmax(outputs, dim=1).item()\n",
    "\n",
    "# Decode label\n",
    "predicted_label = lbl_encoder.inverse_transform([predicted_class])[0]\n",
    "print(f\"Predicted class: {predicted_label}\")\n"
   ]
  },
  {
   "cell_type": "code",
   "execution_count": 31,
   "id": "c9b92156",
   "metadata": {},
   "outputs": [],
   "source": [
    "import torch\n",
    "from torchvision import models\n",
    "from torch import nn\n",
    "\n",
    "def evaluate_model_on_test(model_path, test_loader, device=\"cuda\"):\n",
    "    # Recreate the same model architecture\n",
    "    model = models.resnet50(weights=None)\n",
    "    model.conv1 = nn.Conv2d(1, 64, kernel_size=7, stride=2, padding=3, bias=False)\n",
    "    num_ftrs = model.fc.in_features\n",
    "    model.fc = nn.Linear(num_ftrs, 2)\n",
    "\n",
    "    # Load the saved weights\n",
    "    model.load_state_dict(torch.load(model_path, map_location=device))\n",
    "    model.to(device)\n",
    "    model.eval()\n",
    "\n",
    "    correct = 0\n",
    "    total = 0\n",
    "\n",
    "    with torch.no_grad():\n",
    "        for images, labels in test_loader:\n",
    "            images = images.to(device)\n",
    "            labels = labels.to(device)\n",
    "\n",
    "            outputs = model(images)\n",
    "            _, predicted = torch.max(outputs.data, 1)\n",
    "\n",
    "            total += labels.size(0)\n",
    "            correct += (predicted == labels).sum().item()\n",
    "\n",
    "    accuracy = correct / total\n",
    "    print(f\"Test Accuracy: {accuracy:.4f}\")\n",
    "    return accuracy\n"
   ]
  },
  {
   "cell_type": "code",
   "execution_count": 40,
   "id": "03b659e5",
   "metadata": {},
   "outputs": [],
   "source": [
    "def infer(img_path):\n",
    "    # Load the model architecture   \n",
    "    model = models.resnet50(weights=None)\n",
    "    model.conv1 = nn.Conv2d(1, 64, kernel_size=7, stride=2, padding=3, bias=False)\n",
    "    num_ftrs = model.fc.in_features\n",
    "    model.fc = nn.Linear(num_ftrs, 2)\n",
    "    model.load_state_dict(torch.load(r\"D:\\Projects\\github\\X_Ray_Classification\\models\\best_model.pth\", map_location=\"cuda\"))\n",
    "    model.eval()\n",
    "    model.to(\"cuda\")  # or \"cpu\" if you're not using GPU\n",
    "    img = Image.open(img_path).convert(\"L\")  # convert to grayscale\n",
    "    img = transforms.ToTensor()(img).unsqueeze(0).to(\"cuda\")\n",
    "    with torch.no_grad():\n",
    "        output = model(img)\n",
    "        argmax = torch.argmax(output, dim=1).item()\n",
    "        predicted_class = lbl_encoder.inverse_transform([argmax])[0]\n",
    "    return predicted_class"
   ]
  },
  {
   "cell_type": "code",
   "execution_count": 41,
   "id": "832ccece",
   "metadata": {},
   "outputs": [
    {
     "data": {
      "text/plain": [
       "'PNEUMONIA'"
      ]
     },
     "execution_count": 41,
     "metadata": {},
     "output_type": "execute_result"
    }
   ],
   "source": [
    "infer(r\"D:\\Projects\\github\\X_Ray_Classification\\data\\chest_xray\\chest_xray\\resized\\train_PNEUMONIA_person529_bacteria_2229.jpeg\")"
   ]
  },
  {
   "cell_type": "code",
   "execution_count": 32,
   "id": "3383bdf5",
   "metadata": {},
   "outputs": [
    {
     "name": "stdout",
     "output_type": "stream",
     "text": [
      "Test Accuracy: 0.8413\n",
      "best_model2 0.8413461538461539\n",
      "---------------------------------------\n",
      "Test Accuracy: 0.8429\n",
      "best_model 0.842948717948718\n",
      "---------------------------------------\n",
      "Test Accuracy: 0.8125\n",
      "best_model3 0.8125\n",
      "---------------------------------------\n",
      "Test Accuracy: 0.8013\n",
      "best_model4 0.8012820512820513\n",
      "---------------------------------------\n",
      "Test Accuracy: 0.7644\n",
      "best_model_resnet50_model 0.7644230769230769\n"
     ]
    }
   ],
   "source": [
    "print(\"best_model2\",evaluate_model_on_test(r\"D:\\Projects\\github\\X_Ray_Classification\\models\\best_model2.pth\", test_loader, device=\"cuda\"))\n",
    "print(\"---------------------------------------\")\n",
    "print(\"best_model\",evaluate_model_on_test(r\"D:\\Projects\\github\\X_Ray_Classification\\models\\best_model.pth\", test_loader, device=\"cuda\"))\n",
    "print(\"---------------------------------------\")\n",
    "print(\"best_model3\",evaluate_model_on_test(r\"D:\\Projects\\github\\X_Ray_Classification\\models\\best_model3.pth\", test_loader, device=\"cuda\"))\n",
    "print(\"---------------------------------------\")\n",
    "print(\"best_model4\",evaluate_model_on_test(r\"D:\\Projects\\github\\X_Ray_Classification\\models\\best_model4.pth\", test_loader, device=\"cuda\"))\n",
    "print(\"---------------------------------------\")\n",
    "print(\"best_model_resnet50_model\",evaluate_model_on_test(r\"D:\\Projects\\github\\X_Ray_Classification\\models\\best_resnet50_model.pth\", test_loader, device=\"cuda\"))"
   ]
  },
  {
   "cell_type": "code",
   "execution_count": null,
   "id": "b7b741c8",
   "metadata": {},
   "outputs": [],
   "source": []
  },
  {
   "cell_type": "code",
   "execution_count": 72,
   "id": "a50d0889",
   "metadata": {},
   "outputs": [
    {
     "ename": "TypeError",
     "evalue": "'str' object is not callable",
     "output_type": "error",
     "traceback": [
      "\u001b[1;31m---------------------------------------------------------------------------\u001b[0m",
      "\u001b[1;31mTypeError\u001b[0m                                 Traceback (most recent call last)",
      "Cell \u001b[1;32mIn[72], line 4\u001b[0m\n\u001b[0;32m      2\u001b[0m img \u001b[38;5;241m=\u001b[39m Image\u001b[38;5;241m.\u001b[39mopen(img_path)\u001b[38;5;241m.\u001b[39mconvert(\u001b[38;5;124m\"\u001b[39m\u001b[38;5;124mL\u001b[39m\u001b[38;5;124m\"\u001b[39m)\n\u001b[0;32m      3\u001b[0m img_trans \u001b[38;5;241m=\u001b[39m  transforms\u001b[38;5;241m.\u001b[39mToTensor()(img)\u001b[38;5;241m.\u001b[39munsqueeze(\u001b[38;5;241m0\u001b[39m)\u001b[38;5;241m.\u001b[39mto(device)\n\u001b[1;32m----> 4\u001b[0m preds \u001b[38;5;241m=\u001b[39m \u001b[43mmodel\u001b[49m\u001b[43m(\u001b[49m\u001b[43mimg_trans\u001b[49m\u001b[43m)\u001b[49m\n\u001b[0;32m      5\u001b[0m class_indx \u001b[38;5;241m=\u001b[39m torch\u001b[38;5;241m.\u001b[39margmax(preds)\u001b[38;5;241m.\u001b[39mitem()\n\u001b[0;32m      6\u001b[0m class_indx\n",
      "\u001b[1;31mTypeError\u001b[0m: 'str' object is not callable"
     ]
    }
   ],
   "source": [
    "img_path = r\"D:\\Projects\\github\\X_Ray_Classification\\data\\chest_xray\\chest_xray\\resized\\train_PNEUMONIA_person529_bacteria_2229.jpeg\" \n",
    "img = Image.open(img_path).convert(\"L\")\n",
    "img_trans =  transforms.ToTensor()(img).unsqueeze(0).to(device)\n",
    "preds = model(img_trans)\n",
    "class_indx = torch.argmax(preds).item()\n",
    "class_indx\n",
    "lbl_encoder.inverse_transform([class_indx])[0]\n",
    "#img_trans = transforms.Compose([transforms.Resize((128,128)), transforms.ToTensor()]).to\n"
   ]
  },
  {
   "cell_type": "code",
   "execution_count": 29,
   "id": "e64552c0",
   "metadata": {},
   "outputs": [],
   "source": [
    "lbl_encoder = LabelEncoder()\n",
    "data_map[\"clas_enc\"] = lbl_encoder.fit_transform(data_map[\"Class\"])"
   ]
  },
  {
   "cell_type": "code",
   "execution_count": 30,
   "id": "d241fc7a",
   "metadata": {},
   "outputs": [
    {
     "name": "stdout",
     "output_type": "stream",
     "text": [
      "Loading model weights from D:\\Projects\\github\\X_Ray_Classification\\weights\\epoch_6_weights.pth\n",
      "Example image path: data/resized/test_NORMAL_IM-0006-0001.jpeg\n",
      "Actual class: NORMAL\n",
      "Predicted class: PNEUMONIA\n",
      "Prediction probabilities: [0.14258128 0.8574188 ]\n"
     ]
    }
   ],
   "source": [
    "import torch\n",
    "from PIL import Image\n",
    "from torchvision import transforms\n",
    "import pickle\n",
    "import os\n",
    "\n",
    "# Load the label encoder\n",
    "with open(\"D:\\Projects\\github\\X_Ray_Classification\\data\\lbl_encoder.pkl\", \"rb\") as f:\n",
    "    lbl_encoder = pickle.load(f)\n",
    "\n",
    "# Define the inference function\n",
    "def predict_xray_class(model, image_path, device, label_encoder):\n",
    "    \"\"\"\n",
    "    Predicts the class of a single X-ray image.\n",
    "\n",
    "    Args:\n",
    "        model: The trained PyTorch model.\n",
    "        image_path (str): The path to the input image.\n",
    "        device (torch.device): The device to use for inference (e.g., 'cuda' or 'cpu').\n",
    "        label_encoder: The fitted LabelEncoder object.\n",
    "\n",
    "    Returns:\n",
    "        tuple: A tuple containing the predicted class name and the prediction probabilities.\n",
    "    \"\"\"\n",
    "    model.eval() # Set the model to evaluation mode\n",
    "\n",
    "    # Define the image transformation (should match the training transformation)\n",
    "    transform = transforms.Compose([\n",
    "        transforms.ToTensor(),\n",
    "        # Add any other necessary transformations (e.g., resizing if not already done)\n",
    "    ])\n",
    "\n",
    "    # Load and preprocess the image\n",
    "    img = Image.open(image_path).convert(\"L\") # Convert to grayscale\n",
    "    img_tensor = transform(img).unsqueeze(0) # Add batch dimension\n",
    "\n",
    "    # Move the image tensor to the device\n",
    "    img_tensor = img_tensor.to(device)\n",
    "\n",
    "    # Perform inference\n",
    "    with torch.no_grad():\n",
    "        outputs = model(img_tensor)\n",
    "        probabilities = torch.softmax(outputs, dim=1)\n",
    "        _, predicted_class_index = torch.max(outputs, 1)\n",
    "\n",
    "    # Get the predicted class name\n",
    "    predicted_class_name = label_encoder.inverse_transform(predicted_class_index.cpu())[0]\n",
    "\n",
    "    return predicted_class_name, probabilities.cpu().numpy()[0]\n",
    "\n",
    "# --- Example Usage ---\n",
    "# Assuming 'model' is your trained model loaded with the best weights\n",
    "# Assuming 'device' is defined (e.g., torch.device(\"cuda\" if torch.cuda.is_available() else \"cpu\"))\n",
    "\n",
    "# Load the model weights from epoch 6\n",
    "epoch_6_weights_path = \"D:\\Projects\\github\\X_Ray_Classification\\weights\\epoch_6_weights.pth\"\n",
    "print(f\"Loading model weights from {epoch_6_weights_path}\")\n",
    "model.load_state_dict(torch.load(epoch_6_weights_path)) # Using 'model'\n",
    "model.to(device) # Ensure the loaded model is on the correct device\n",
    "\n",
    "\n",
    "# Get an example image path from the test set\n",
    "# Note: data_map needs to be defined in a previous cell for this to work\n",
    "example_image_path = data_map[data_map['Split'] == 'test'].iloc[3]['resized']\n",
    "actual_class = data_map[data_map['Split'] == 'test'].iloc[3]['Class']\n",
    "\n",
    "print(f\"Example image path: {example_image_path}\")\n",
    "print(f\"Actual class: {actual_class}\")\n",
    "\n",
    "# Perform prediction\n",
    "predicted_class, probabilities = predict_xray_class(model, example_image_path, device, lbl_encoder)\n",
    "\n",
    "print(f\"Predicted class: {predicted_class}\")\n",
    "print(f\"Prediction probabilities: {probabilities}\")\n",
    "\n",
    "# You can repeat this for other images in the test set to evaluate the model\n",
    "\n"
   ]
  },
  {
   "cell_type": "code",
   "execution_count": 33,
   "id": "61e7ebe7",
   "metadata": {},
   "outputs": [
    {
     "name": "stdout",
     "output_type": "stream",
     "text": [
      "Accuracy of the network on the 10000 test images: 78 %\n"
     ]
    }
   ],
   "source": [
    "model.eval()\n",
    "with torch.no_grad():\n",
    "    for i, (images, labels) in enumerate(test_loader):\n",
    "        images = images.to(device)\n",
    "        labels = labels.to(device)\n",
    "        outputs = model(images)\n",
    "        _, predicted = torch.max(outputs.data, 1)\n",
    "        if i == 0:\n",
    "            correct = 0\n",
    "            total = 0\n",
    "        total += labels.size(0)\n",
    "        correct += (predicted == labels).sum().item()\n",
    "    print('Accuracy of the network on the 10000 test images: %d %%' % (\n",
    "        100 * correct / total))\n"
   ]
  },
  {
   "cell_type": "code",
   "execution_count": 58,
   "id": "e2df2191",
   "metadata": {},
   "outputs": [
    {
     "data": {
      "text/plain": [
       "'data/resized/test_NORMAL_IM-0011-0001-0001.jpeg'"
      ]
     },
     "execution_count": 58,
     "metadata": {},
     "output_type": "execute_result"
    }
   ],
   "source": [
    "data_map[data_map['Split'] == 'test'].iloc[7]['resized']"
   ]
  },
  {
   "cell_type": "code",
   "execution_count": 52,
   "id": "91fd5f5e",
   "metadata": {},
   "outputs": [],
   "source": [
    "# Suppose your DataFrame has a column 'Class' with string labels\n",
    "class_names = data_map['Class']  # Replace with your actual column name\n",
    "lbl_encoder = LabelEncoder()\n",
    "lbl_encoder.fit(class_names)\n",
    "\n",
    "# Save the LabelEncoder to a file\n",
    "with open(\"data/lbl_encoder.pkl\", \"wb\") as f:\n",
    "    pickle.dump(lbl_encoder, f)"
   ]
  },
  {
   "cell_type": "code",
   "execution_count": 53,
   "id": "ee3fce0c",
   "metadata": {},
   "outputs": [
    {
     "data": {
      "application/vnd.microsoft.datawrangler.viewer.v0+json": {
       "columns": [
        {
         "name": "index",
         "rawType": "int64",
         "type": "integer"
        },
        {
         "name": "Image",
         "rawType": "object",
         "type": "string"
        },
        {
         "name": "Class",
         "rawType": "object",
         "type": "string"
        },
        {
         "name": "Split",
         "rawType": "object",
         "type": "string"
        },
        {
         "name": "resized",
         "rawType": "object",
         "type": "string"
        },
        {
         "name": "clas_enc",
         "rawType": "int64",
         "type": "integer"
        }
       ],
       "conversionMethod": "pd.DataFrame",
       "ref": "b2a5880c-8860-4fa4-98f6-685e9fe1b6e5",
       "rows": [
        [
         "0",
         "D:\\Projects\\Github\\X_Ray_Classification\\data\\chest_xray\\chest_xray\\train\\NORMAL\\IM-0115-0001.jpeg",
         "NORMAL",
         "train",
         "data/resized/train_NORMAL_IM-0115-0001.jpeg",
         "0"
        ],
        [
         "1",
         "D:\\Projects\\Github\\X_Ray_Classification\\data\\chest_xray\\chest_xray\\train\\NORMAL\\IM-0117-0001.jpeg",
         "NORMAL",
         "train",
         "data/resized/train_NORMAL_IM-0117-0001.jpeg",
         "0"
        ],
        [
         "2",
         "D:\\Projects\\Github\\X_Ray_Classification\\data\\chest_xray\\chest_xray\\train\\NORMAL\\IM-0119-0001.jpeg",
         "NORMAL",
         "train",
         "data/resized/train_NORMAL_IM-0119-0001.jpeg",
         "0"
        ],
        [
         "3",
         "D:\\Projects\\Github\\X_Ray_Classification\\data\\chest_xray\\chest_xray\\train\\NORMAL\\IM-0122-0001.jpeg",
         "NORMAL",
         "train",
         "data/resized/train_NORMAL_IM-0122-0001.jpeg",
         "0"
        ],
        [
         "4",
         "D:\\Projects\\Github\\X_Ray_Classification\\data\\chest_xray\\chest_xray\\train\\NORMAL\\IM-0125-0001.jpeg",
         "NORMAL",
         "train",
         "data/resized/train_NORMAL_IM-0125-0001.jpeg",
         "0"
        ]
       ],
       "shape": {
        "columns": 5,
        "rows": 5
       }
      },
      "text/html": [
       "<div>\n",
       "<style scoped>\n",
       "    .dataframe tbody tr th:only-of-type {\n",
       "        vertical-align: middle;\n",
       "    }\n",
       "\n",
       "    .dataframe tbody tr th {\n",
       "        vertical-align: top;\n",
       "    }\n",
       "\n",
       "    .dataframe thead th {\n",
       "        text-align: right;\n",
       "    }\n",
       "</style>\n",
       "<table border=\"1\" class=\"dataframe\">\n",
       "  <thead>\n",
       "    <tr style=\"text-align: right;\">\n",
       "      <th></th>\n",
       "      <th>Image</th>\n",
       "      <th>Class</th>\n",
       "      <th>Split</th>\n",
       "      <th>resized</th>\n",
       "      <th>clas_enc</th>\n",
       "    </tr>\n",
       "  </thead>\n",
       "  <tbody>\n",
       "    <tr>\n",
       "      <th>0</th>\n",
       "      <td>D:\\Projects\\Github\\X_Ray_Classification\\data\\c...</td>\n",
       "      <td>NORMAL</td>\n",
       "      <td>train</td>\n",
       "      <td>data/resized/train_NORMAL_IM-0115-0001.jpeg</td>\n",
       "      <td>0</td>\n",
       "    </tr>\n",
       "    <tr>\n",
       "      <th>1</th>\n",
       "      <td>D:\\Projects\\Github\\X_Ray_Classification\\data\\c...</td>\n",
       "      <td>NORMAL</td>\n",
       "      <td>train</td>\n",
       "      <td>data/resized/train_NORMAL_IM-0117-0001.jpeg</td>\n",
       "      <td>0</td>\n",
       "    </tr>\n",
       "    <tr>\n",
       "      <th>2</th>\n",
       "      <td>D:\\Projects\\Github\\X_Ray_Classification\\data\\c...</td>\n",
       "      <td>NORMAL</td>\n",
       "      <td>train</td>\n",
       "      <td>data/resized/train_NORMAL_IM-0119-0001.jpeg</td>\n",
       "      <td>0</td>\n",
       "    </tr>\n",
       "    <tr>\n",
       "      <th>3</th>\n",
       "      <td>D:\\Projects\\Github\\X_Ray_Classification\\data\\c...</td>\n",
       "      <td>NORMAL</td>\n",
       "      <td>train</td>\n",
       "      <td>data/resized/train_NORMAL_IM-0122-0001.jpeg</td>\n",
       "      <td>0</td>\n",
       "    </tr>\n",
       "    <tr>\n",
       "      <th>4</th>\n",
       "      <td>D:\\Projects\\Github\\X_Ray_Classification\\data\\c...</td>\n",
       "      <td>NORMAL</td>\n",
       "      <td>train</td>\n",
       "      <td>data/resized/train_NORMAL_IM-0125-0001.jpeg</td>\n",
       "      <td>0</td>\n",
       "    </tr>\n",
       "  </tbody>\n",
       "</table>\n",
       "</div>"
      ],
      "text/plain": [
       "                                               Image   Class  Split  \\\n",
       "0  D:\\Projects\\Github\\X_Ray_Classification\\data\\c...  NORMAL  train   \n",
       "1  D:\\Projects\\Github\\X_Ray_Classification\\data\\c...  NORMAL  train   \n",
       "2  D:\\Projects\\Github\\X_Ray_Classification\\data\\c...  NORMAL  train   \n",
       "3  D:\\Projects\\Github\\X_Ray_Classification\\data\\c...  NORMAL  train   \n",
       "4  D:\\Projects\\Github\\X_Ray_Classification\\data\\c...  NORMAL  train   \n",
       "\n",
       "                                       resized  clas_enc  \n",
       "0  data/resized/train_NORMAL_IM-0115-0001.jpeg         0  \n",
       "1  data/resized/train_NORMAL_IM-0117-0001.jpeg         0  \n",
       "2  data/resized/train_NORMAL_IM-0119-0001.jpeg         0  \n",
       "3  data/resized/train_NORMAL_IM-0122-0001.jpeg         0  \n",
       "4  data/resized/train_NORMAL_IM-0125-0001.jpeg         0  "
      ]
     },
     "execution_count": 53,
     "metadata": {},
     "output_type": "execute_result"
    }
   ],
   "source": [
    "data_map.head()"
   ]
  },
  {
   "cell_type": "code",
   "execution_count": null,
   "id": "7a444ba8",
   "metadata": {},
   "outputs": [],
   "source": []
  }
 ],
 "metadata": {
  "kernelspec": {
   "display_name": "cv_env",
   "language": "python",
   "name": "python3"
  },
  "language_info": {
   "codemirror_mode": {
    "name": "ipython",
    "version": 3
   },
   "file_extension": ".py",
   "mimetype": "text/x-python",
   "name": "python",
   "nbconvert_exporter": "python",
   "pygments_lexer": "ipython3",
   "version": "3.10.16"
  }
 },
 "nbformat": 4,
 "nbformat_minor": 5
}
